{
 "cells": [
  {
   "cell_type": "markdown",
   "metadata": {},
   "source": [
    "# 梯度下降法\n",
    "- (1)将权重w初始化为0或一个极小的随机数\n",
    "- (2)迭代所有样本x，并输出y值，更新权重w"
   ]
  },
  {
   "cell_type": "markdown",
   "metadata": {},
   "source": [
    "## 要求：观察不同的学习速率对模型收敛性的影响，如何解决？"
   ]
  },
  {
   "cell_type": "markdown",
   "metadata": {},
   "source": [
    "## 程序"
   ]
  },
  {
   "cell_type": "code",
   "execution_count": 3,
   "metadata": {},
   "outputs": [],
   "source": [
    "#初始化w和η和迭代次数\n",
    "#更新w，得到误差\n",
    "#计算wx 得到y\n",
    "#载入数据\n",
    "import numpy as np \n",
    "import pandas as pd\n",
    "import matplotlib.pyplot as plt\n",
    "from matplotlib.colors import ListedColormap\n",
    "#解决绘图中文显示问题\n",
    "plt.rcParams['font.sans-serif']=['SimHei']\n",
    "plt.rcParams['axes.unicode_minus']=False"
   ]
  },
  {
   "cell_type": "code",
   "execution_count": 4,
   "metadata": {},
   "outputs": [
    {
     "data": {
      "text/html": [
       "<div>\n",
       "<style scoped>\n",
       "    .dataframe tbody tr th:only-of-type {\n",
       "        vertical-align: middle;\n",
       "    }\n",
       "\n",
       "    .dataframe tbody tr th {\n",
       "        vertical-align: top;\n",
       "    }\n",
       "\n",
       "    .dataframe thead th {\n",
       "        text-align: right;\n",
       "    }\n",
       "</style>\n",
       "<table border=\"1\" class=\"dataframe\">\n",
       "  <thead>\n",
       "    <tr style=\"text-align: right;\">\n",
       "      <th></th>\n",
       "      <th>0</th>\n",
       "      <th>1</th>\n",
       "      <th>2</th>\n",
       "      <th>3</th>\n",
       "      <th>4</th>\n",
       "    </tr>\n",
       "  </thead>\n",
       "  <tbody>\n",
       "    <tr>\n",
       "      <th>145</th>\n",
       "      <td>6.7</td>\n",
       "      <td>3.0</td>\n",
       "      <td>5.2</td>\n",
       "      <td>2.3</td>\n",
       "      <td>Iris-virginica</td>\n",
       "    </tr>\n",
       "    <tr>\n",
       "      <th>146</th>\n",
       "      <td>6.3</td>\n",
       "      <td>2.5</td>\n",
       "      <td>5.0</td>\n",
       "      <td>1.9</td>\n",
       "      <td>Iris-virginica</td>\n",
       "    </tr>\n",
       "    <tr>\n",
       "      <th>147</th>\n",
       "      <td>6.5</td>\n",
       "      <td>3.0</td>\n",
       "      <td>5.2</td>\n",
       "      <td>2.0</td>\n",
       "      <td>Iris-virginica</td>\n",
       "    </tr>\n",
       "    <tr>\n",
       "      <th>148</th>\n",
       "      <td>6.2</td>\n",
       "      <td>3.4</td>\n",
       "      <td>5.4</td>\n",
       "      <td>2.3</td>\n",
       "      <td>Iris-virginica</td>\n",
       "    </tr>\n",
       "    <tr>\n",
       "      <th>149</th>\n",
       "      <td>5.9</td>\n",
       "      <td>3.0</td>\n",
       "      <td>5.1</td>\n",
       "      <td>1.8</td>\n",
       "      <td>Iris-virginica</td>\n",
       "    </tr>\n",
       "  </tbody>\n",
       "</table>\n",
       "</div>"
      ],
      "text/plain": [
       "       0    1    2    3               4\n",
       "145  6.7  3.0  5.2  2.3  Iris-virginica\n",
       "146  6.3  2.5  5.0  1.9  Iris-virginica\n",
       "147  6.5  3.0  5.2  2.0  Iris-virginica\n",
       "148  6.2  3.4  5.4  2.3  Iris-virginica\n",
       "149  5.9  3.0  5.1  1.8  Iris-virginica"
      ]
     },
     "execution_count": 4,
     "metadata": {},
     "output_type": "execute_result"
    }
   ],
   "source": [
    "df = pd.read_csv('https://archive.ics.uci.edu/ml/''machine-learning-databases/iris/iris.data',header=None)\n",
    "df.tail()"
   ]
  },
  {
   "cell_type": "code",
   "execution_count": 5,
   "metadata": {
    "scrolled": true
   },
   "outputs": [
    {
     "data": {
      "image/png": "[encoded data removed]",
      "text/plain": [
       "<Figure size 432x288 with 1 Axes>"
      ]
     },
     "metadata": {
      "needs_background": "light"
     },
     "output_type": "display_data"
    }
   ],
   "source": [
    "#创建数据\n",
    "y=[]\n",
    "for i in range(100):\n",
    "    if df.iloc[i,4] == 'Iris-setosa':\n",
    "        y.append(1)\n",
    "    else:\n",
    "        y.append(-1)   \n",
    "\n",
    "x = pd.DataFrame({'萼片':df.iloc[:100,0],'花瓣':df.iloc[:100,2]})\n",
    "\n",
    "#绘图观察\n",
    "plt.figure()\n",
    "plt.scatter(x.iloc[:50,0],x.iloc[:50,1],color='red',marker='o',label='setosa')\n",
    "plt.scatter(x.iloc[50:100,0],x.iloc[50:100,1],color='blue',marker='x',label='versicolor')\n",
    "plt.legend(loc='upper left')\n",
    "plt.show()"
   ]
  },
  {
   "cell_type": "code",
   "execution_count": 6,
   "metadata": {},
   "outputs": [],
   "source": [
    "#定义变量\n",
    "X=x.values\n",
    "Y=np.array([y]).T\n",
    "eta = 0.01\n",
    "n_iter = 10\n",
    "w = np.zeros(1+x.shape[1])\n",
    "errors=[]"
   ]
  },
  {
   "cell_type": "code",
   "execution_count": 7,
   "metadata": {},
   "outputs": [],
   "source": [
    "#编写感知器\n",
    "def predict(xi):\n",
    "    result=np.dot(xi,w[1:])+w[0]\n",
    "    return np.where(result>=0,1,-1)\n",
    "\n",
    "for i in range(n_iter):\n",
    "    error=0\n",
    "    for xi,target in zip(X,Y):\n",
    "        deta_w = eta*(target-predict(xi))\n",
    "        w[1:] += deta_w*xi\n",
    "        w[0] += deta_w\n",
    "        if deta_w != 0:\n",
    "            error +=1\n",
    "    errors.append(error)\n"
   ]
  },
  {
   "cell_type": "code",
   "execution_count": 8,
   "metadata": {},
   "outputs": [
    {
     "data": {
      "image/png": "[encoded data removed]",
      "text/plain": [
       "<Figure size 432x288 with 1 Axes>"
      ]
     },
     "metadata": {
      "needs_background": "light"
     },
     "output_type": "display_data"
    }
   ],
   "source": [
    "#犯错个数\n",
    "plt.figure()\n",
    "plt.xlabel('迭代次数')\n",
    "plt.ylabel('犯错概率')\n",
    "plt.plot(np.linspace(1,10,10),errors)\n",
    "plt.show()"
   ]
  },
  {
   "cell_type": "code",
   "execution_count": 9,
   "metadata": {
    "scrolled": true
   },
   "outputs": [
    {
     "data": {
      "image/png": "[encoded data removed]",
      "text/plain": [
       "<Figure size 432x288 with 1 Axes>"
      ]
     },
     "metadata": {
      "needs_background": "light"
     },
     "output_type": "display_data"
    }
   ],
   "source": [
    "#绘制决策区域\n",
    "x1_min,x1_max=X[:,0].min()-1,X[:,0].max()+1     #x1的最大最小值\n",
    "x2_min,x2_max=X[:,1].min()-1,X[:,1].max()+1     #x2的最大最小值\n",
    "xx1,xx2=np.meshgrid(np.arange(x1_min,x1_max,0.02),np.arange(x2_min,x2_max,0.02))\n",
    "Z=predict(np.array([xx1.ravel(),xx2.ravel()]).T) \n",
    "Z=Z.reshape(xx1.shape)\n",
    "plt.contourf(xx1,xx2,Z,alpha=0.4)    #等高线\n",
    "plt.scatter(x.iloc[:50,0],x.iloc[:50,1],color='red',marker='o',label='setosa')\n",
    "plt.scatter(x.iloc[50:100,0],x.iloc[50:100,1],color='blue',marker='x',label='versicolor')\n",
    "plt.legend(loc='upper left')\n",
    "plt.show()"
   ]
  },
  {
   "cell_type": "markdown",
   "metadata": {},
   "source": [
    "#### 数据线性可分，故感知机模型必再迭代一定次数后会收敛"
   ]
  },
  {
   "cell_type": "markdown",
   "metadata": {},
   "source": [
    "## 梯度下降优化迭代"
   ]
  },
  {
   "cell_type": "code",
   "execution_count": 10,
   "metadata": {},
   "outputs": [
    {
     "data": {
      "image/png": "[encoded data removed]",
      "text/plain": [
       "<Figure size 576x288 with 2 Axes>"
      ]
     },
     "metadata": {
      "needs_background": "light"
     },
     "output_type": "display_data"
    }
   ],
   "source": [
    "#初始变量\n",
    "n_iter=10\n",
    "w = np.zeros(1+x.shape[1])\n",
    "error=[]\n",
    "cost1=[]\n",
    "cost2=[]\n",
    "for i in range(n_iter):\n",
    "    y_hat=np.dot(X,w[1:])+w[0] #预测值\n",
    "    res = y-y_hat\n",
    "    w[1:]=w[1:]+0.01*np.dot(X.T,res)\n",
    "    w[0]=w[0]+0.01*sum(res)\n",
    "    cost=sum(res**2)/2\n",
    "    cost1.append(cost)\n",
    "w = np.zeros(1+x.shape[1])\n",
    "for i in range(n_iter):\n",
    "    y_hat=np.dot(X,w[1:])+w[0] #预测值\n",
    "    res = y-y_hat\n",
    "    w[1:]=w[1:]+0.0001*np.dot(X.T,res)\n",
    "    w[0]=w[0]+0.0001*sum(res)\n",
    "    cost=sum(res**2)/2\n",
    "    cost2.append(cost)\n",
    "    \n",
    "fig,ax=plt.subplots(1,2,figsize=(8,4))\n",
    "ax[0].plot(np.arange(1,11),np.log10(cost1),marker='o')\n",
    "ax[0].set_ylabel('迭代误差 log(mse)')\n",
    "ax[0].set_xlabel('迭代次数')\n",
    "ax[0].set_title('学习速率eta=0.01')\n",
    "ax[1].plot(np.arange(1,11),cost2,marker='o')\n",
    "ax[1].set_ylabel('迭代误差 mse')\n",
    "ax[1].set_xlabel('迭代次数')\n",
    "ax[1].set_title('学习速率eta=0.0001')\n",
    "plt.show()"
   ]
  },
  {
   "cell_type": "markdown",
   "metadata": {},
   "source": [
    "#### 学习速率0.01时，误差不断增大，说明学习步长太大，跳过了全局最优解"
   ]
  },
  {
   "cell_type": "code",
   "execution_count": 11,
   "metadata": {},
   "outputs": [
    {
     "data": {
      "image/png": "[encoded data removed]",
      "text/plain": [
       "<Figure size 432x288 with 1 Axes>"
      ]
     },
     "metadata": {
      "needs_background": "light"
     },
     "output_type": "display_data"
    }
   ],
   "source": [
    "#对数据进行标准化处理\n",
    "X_std = np.copy(X)\n",
    "X_std[:,0]=(X[:,0]-X[:,0].mean())/X[:,0].std()\n",
    "X_std[:,1]=(X[:,1]-X[:,1].mean())/X[:,1].std()\n",
    "cost3=[]\n",
    "w = np.zeros(1+x.shape[1])\n",
    "for i in range(15):\n",
    "    y_hat=np.dot(X_std,w[1:])+w[0] #预测值\n",
    "    res = y-y_hat\n",
    "    w[1:]=w[1:]+0.01*np.dot(X_std.T,res)\n",
    "    w[0]=w[0]+0.01*sum(res)\n",
    "    cost=sum(res**2)/2\n",
    "    cost3.append(cost)\n",
    "    \n",
    "plt.plot(np.arange(1,16),cost3,marker='o')\n",
    "plt.show()"
   ]
  },
  {
   "cell_type": "markdown",
   "metadata": {},
   "source": [
    "#### 经过标准化处理后，在学习速率=0.01时，算法可以收敛，但其SSE扔不为0"
   ]
  },
  {
   "cell_type": "code",
   "execution_count": null,
   "metadata": {},
   "outputs": [],
   "source": []
  }
 ],
 "metadata": {
  "kernelspec": {
   "display_name": "Python 3",
   "language": "python",
   "name": "python3"
  },
  "language_info": {
   "codemirror_mode": {
    "name": "ipython",
    "version": 3
   },
   "file_extension": ".py",
   "mimetype": "text/x-python",
   "name": "python",
   "nbconvert_exporter": "python",
   "pygments_lexer": "ipython3",
   "version": "3.8.5"
  }
 },
 "nbformat": 4,
 "nbformat_minor": 4
}
