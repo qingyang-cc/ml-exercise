{
 "cells": [
  {
   "cell_type": "markdown",
   "metadata": {},
   "source": [
    "## 用HC方法对数据nci60关于renal和nsclc进行分类"
   ]
  },
  {
   "cell_type": "code",
   "execution_count": 11,
   "metadata": {},
   "outputs": [],
   "source": [
    "import numpy as np\n",
    "import pandas as pd\n",
    "from sklearn import preprocessing\n",
    "import scipy"
   ]
  },
  {
   "cell_type": "code",
   "execution_count": 12,
   "metadata": {},
   "outputs": [
    {
     "data": {
      "text/html": [
       "<div>\n",
       "<style scoped>\n",
       "    .dataframe tbody tr th:only-of-type {\n",
       "        vertical-align: middle;\n",
       "    }\n",
       "\n",
       "    .dataframe tbody tr th {\n",
       "        vertical-align: top;\n",
       "    }\n",
       "\n",
       "    .dataframe thead th {\n",
       "        text-align: right;\n",
       "    }\n",
       "</style>\n",
       "<table border=\"1\" class=\"dataframe\">\n",
       "  <thead>\n",
       "    <tr style=\"text-align: right;\">\n",
       "      <th></th>\n",
       "      <th>data.1</th>\n",
       "      <th>data.2</th>\n",
       "      <th>data.3</th>\n",
       "      <th>data.4</th>\n",
       "      <th>data.5</th>\n",
       "      <th>data.6</th>\n",
       "      <th>data.7</th>\n",
       "      <th>data.8</th>\n",
       "      <th>data.9</th>\n",
       "      <th>data.10</th>\n",
       "      <th>...</th>\n",
       "      <th>data.6822</th>\n",
       "      <th>data.6823</th>\n",
       "      <th>data.6824</th>\n",
       "      <th>data.6825</th>\n",
       "      <th>data.6826</th>\n",
       "      <th>data.6827</th>\n",
       "      <th>data.6828</th>\n",
       "      <th>data.6829</th>\n",
       "      <th>data.6830</th>\n",
       "      <th>labs</th>\n",
       "    </tr>\n",
       "  </thead>\n",
       "  <tbody>\n",
       "    <tr>\n",
       "      <th>V1</th>\n",
       "      <td>0.300000</td>\n",
       "      <td>1.180000</td>\n",
       "      <td>0.550000</td>\n",
       "      <td>1.140000</td>\n",
       "      <td>-0.265000</td>\n",
       "      <td>-7.000000e-02</td>\n",
       "      <td>0.350000</td>\n",
       "      <td>-0.315000</td>\n",
       "      <td>-0.450000</td>\n",
       "      <td>-0.654981</td>\n",
       "      <td>...</td>\n",
       "      <td>0.000000</td>\n",
       "      <td>0.030000</td>\n",
       "      <td>-0.175000</td>\n",
       "      <td>0.629981</td>\n",
       "      <td>-0.030000</td>\n",
       "      <td>0.000000</td>\n",
       "      <td>0.280000</td>\n",
       "      <td>-0.340000</td>\n",
       "      <td>-1.930000</td>\n",
       "      <td>CNS</td>\n",
       "    </tr>\n",
       "    <tr>\n",
       "      <th>V2</th>\n",
       "      <td>0.679961</td>\n",
       "      <td>1.289961</td>\n",
       "      <td>0.169961</td>\n",
       "      <td>0.379961</td>\n",
       "      <td>0.464961</td>\n",
       "      <td>5.799610e-01</td>\n",
       "      <td>0.699961</td>\n",
       "      <td>0.724961</td>\n",
       "      <td>-0.040039</td>\n",
       "      <td>-0.285020</td>\n",
       "      <td>...</td>\n",
       "      <td>-0.300039</td>\n",
       "      <td>-0.250039</td>\n",
       "      <td>-0.535039</td>\n",
       "      <td>0.109941</td>\n",
       "      <td>-0.860039</td>\n",
       "      <td>-1.250049</td>\n",
       "      <td>-0.770039</td>\n",
       "      <td>-0.390039</td>\n",
       "      <td>-2.000039</td>\n",
       "      <td>CNS</td>\n",
       "    </tr>\n",
       "    <tr>\n",
       "      <th>V3</th>\n",
       "      <td>0.940000</td>\n",
       "      <td>-0.040000</td>\n",
       "      <td>-0.170000</td>\n",
       "      <td>-0.040000</td>\n",
       "      <td>-0.605000</td>\n",
       "      <td>0.000000e+00</td>\n",
       "      <td>0.090000</td>\n",
       "      <td>0.645000</td>\n",
       "      <td>0.430000</td>\n",
       "      <td>0.475019</td>\n",
       "      <td>...</td>\n",
       "      <td>0.120000</td>\n",
       "      <td>-0.740000</td>\n",
       "      <td>-0.595000</td>\n",
       "      <td>-0.270020</td>\n",
       "      <td>-0.150000</td>\n",
       "      <td>0.000000</td>\n",
       "      <td>-0.120000</td>\n",
       "      <td>-0.410000</td>\n",
       "      <td>0.000000</td>\n",
       "      <td>CNS</td>\n",
       "    </tr>\n",
       "    <tr>\n",
       "      <th>V4</th>\n",
       "      <td>0.280000</td>\n",
       "      <td>-0.310000</td>\n",
       "      <td>0.680000</td>\n",
       "      <td>-0.810000</td>\n",
       "      <td>0.625000</td>\n",
       "      <td>-1.387779e-17</td>\n",
       "      <td>0.170000</td>\n",
       "      <td>0.245000</td>\n",
       "      <td>0.020000</td>\n",
       "      <td>0.095019</td>\n",
       "      <td>...</td>\n",
       "      <td>-0.110000</td>\n",
       "      <td>-0.160000</td>\n",
       "      <td>0.095000</td>\n",
       "      <td>-0.350020</td>\n",
       "      <td>-0.300000</td>\n",
       "      <td>-1.150010</td>\n",
       "      <td>1.090000</td>\n",
       "      <td>-0.260000</td>\n",
       "      <td>-1.100000</td>\n",
       "      <td>RENAL</td>\n",
       "    </tr>\n",
       "    <tr>\n",
       "      <th>V5</th>\n",
       "      <td>0.485000</td>\n",
       "      <td>-0.465000</td>\n",
       "      <td>0.395000</td>\n",
       "      <td>0.905000</td>\n",
       "      <td>0.200000</td>\n",
       "      <td>-5.000000e-03</td>\n",
       "      <td>0.085000</td>\n",
       "      <td>0.110000</td>\n",
       "      <td>0.235000</td>\n",
       "      <td>1.490019</td>\n",
       "      <td>...</td>\n",
       "      <td>-0.775000</td>\n",
       "      <td>-0.515000</td>\n",
       "      <td>-0.320000</td>\n",
       "      <td>0.634980</td>\n",
       "      <td>0.605000</td>\n",
       "      <td>0.000000</td>\n",
       "      <td>0.745000</td>\n",
       "      <td>0.425000</td>\n",
       "      <td>0.145000</td>\n",
       "      <td>BREAST</td>\n",
       "    </tr>\n",
       "  </tbody>\n",
       "</table>\n",
       "<p>5 rows × 6831 columns</p>\n",
       "</div>"
      ],
      "text/plain": [
       "      data.1    data.2    data.3    data.4    data.5        data.6    data.7  \\\n",
       "V1  0.300000  1.180000  0.550000  1.140000 -0.265000 -7.000000e-02  0.350000   \n",
       "V2  0.679961  1.289961  0.169961  0.379961  0.464961  5.799610e-01  0.699961   \n",
       "V3  0.940000 -0.040000 -0.170000 -0.040000 -0.605000  0.000000e+00  0.090000   \n",
       "V4  0.280000 -0.310000  0.680000 -0.810000  0.625000 -1.387779e-17  0.170000   \n",
       "V5  0.485000 -0.465000  0.395000  0.905000  0.200000 -5.000000e-03  0.085000   \n",
       "\n",
       "      data.8    data.9   data.10  ...  data.6822  data.6823  data.6824  \\\n",
       "V1 -0.315000 -0.450000 -0.654981  ...   0.000000   0.030000  -0.175000   \n",
       "V2  0.724961 -0.040039 -0.285020  ...  -0.300039  -0.250039  -0.535039   \n",
       "V3  0.645000  0.430000  0.475019  ...   0.120000  -0.740000  -0.595000   \n",
       "V4  0.245000  0.020000  0.095019  ...  -0.110000  -0.160000   0.095000   \n",
       "V5  0.110000  0.235000  1.490019  ...  -0.775000  -0.515000  -0.320000   \n",
       "\n",
       "    data.6825  data.6826  data.6827  data.6828  data.6829  data.6830    labs  \n",
       "V1   0.629981  -0.030000   0.000000   0.280000  -0.340000  -1.930000     CNS  \n",
       "V2   0.109941  -0.860039  -1.250049  -0.770039  -0.390039  -2.000039     CNS  \n",
       "V3  -0.270020  -0.150000   0.000000  -0.120000  -0.410000   0.000000     CNS  \n",
       "V4  -0.350020  -0.300000  -1.150010   1.090000  -0.260000  -1.100000   RENAL  \n",
       "V5   0.634980   0.605000   0.000000   0.745000   0.425000   0.145000  BREAST  \n",
       "\n",
       "[5 rows x 6831 columns]"
      ]
     },
     "execution_count": 12,
     "metadata": {},
     "output_type": "execute_result"
    }
   ],
   "source": [
    "data=pd.read_csv('./data/NCI60.csv',index_col=0)\n",
    "data.head()"
   ]
  },
  {
   "cell_type": "code",
   "execution_count": 13,
   "metadata": {},
   "outputs": [
    {
     "name": "stderr",
     "output_type": "stream",
     "text": [
      "C:\\jupy\\lib\\site-packages\\pandas\\core\\indexing.py:966: SettingWithCopyWarning: \n",
      "A value is trying to be set on a copy of a slice from a DataFrame.\n",
      "Try using .loc[row_indexer,col_indexer] = value instead\n",
      "\n",
      "See the caveats in the documentation: https://pandas.pydata.org/pandas-docs/stable/user_guide/indexing.html#returning-a-view-versus-a-copy\n",
      "  self.obj[item] = s\n"
     ]
    }
   ],
   "source": [
    "y=data.loc[:,'labs']\n",
    "y1=y[y=='RENAL']\n",
    "y2=y[y=='NSCLC']\n",
    "sample=data.columns\n",
    "xnames=data.index\n",
    "df1=data[data['labs']=='RENAL']\n",
    "df2=data[data['labs']=='NSCLC']\n",
    "df1.loc[:,'labs']=np.ones(len(df1))\n",
    "df2.loc[:,'labs']=-1*np.ones(len(df2))\n",
    "df3 = pd.concat([df1,df2],axis=0,ignore_index=False)\n",
    "data1=df3.iloc[:,:-1]\n",
    "#npdata=preprocessing.scale(data.iloc[:,:-1])\n",
    "data_scale=data1.apply(lambda x:(x-np.mean(x)/np.std(x)))\n",
    "newdata=pd.concat([data_scale,df3.iloc[:,-1]],axis=1,ignore_index=False)\n",
    "df11=newdata[newdata['labs']==1]\n",
    "df22=newdata[newdata['labs']==-1]\n",
    "df33 = pd.concat([df11,df22],axis=0,ignore_index=False)\n",
    "#df11=df11.apply(lambda x:(x-np.mean(x)/np.std(x)))\n",
    "#df22=df2.apply(lambda x:(x-np.mean(x)/np.std(x)))\n",
    "#df1_scaled = preprocessing.scale(df11)\n",
    "#df2_scaled = preprocessing.scale(df22)"
   ]
  },
  {
   "cell_type": "code",
   "execution_count": 14,
   "metadata": {},
   "outputs": [],
   "source": [
    "#Z统计量\n",
    "n=len(data.index)\n",
    "Z=[]\n",
    "for i in range(len(data.columns)-1):\n",
    "    Z.append((df11.iloc[:,i].sum()-df22.iloc[:,i].sum())*n**(-0.5))\n"
   ]
  },
  {
   "cell_type": "code",
   "execution_count": 15,
   "metadata": {},
   "outputs": [],
   "source": [
    "#P值\n",
    "p_values=[]\n",
    "for i in range(len(Z)):\n",
    "    #p_values.append(scipy.stats.norm.sf(abs(Z[i]))*2)\n",
    "    p_values.append((1-scipy.stats.norm.cdf(Z[i]))/2)\n",
    "p_values.sort()"
   ]
  },
  {
   "cell_type": "code",
   "execution_count": 16,
   "metadata": {},
   "outputs": [
    {
     "data": {
      "text/plain": [
       "13"
      ]
     },
     "execution_count": 16,
     "metadata": {},
     "output_type": "execute_result"
    }
   ],
   "source": [
    "#HC统计量\n",
    "HC=[]\n",
    "N=len(Z)\n",
    "for i in range(len(Z)-1):\n",
    "    HC.append(N**(0.5)*((i+1)/N-p_values[i])/((i+1)/N-((i+1)/N)**2)**(-0.5))\n",
    "alpha=0.1\n",
    "HC1=HC[:int(N*alpha)]\n",
    "MAX=HC1.index(max(HC1))\n",
    "MAX"
   ]
  },
  {
   "cell_type": "markdown",
   "metadata": {},
   "source": [
    "### 用论文中定义的统计量进行筛选"
   ]
  },
  {
   "cell_type": "code",
   "execution_count": 17,
   "metadata": {},
   "outputs": [
    {
     "name": "stdout",
     "output_type": "stream",
     "text": [
      "['data.5979', 'data.5941', 'data.6086', 'data.6242', 'data.127', 'data.6085', 'data.4699', 'data.6084', 'data.5978', 'data.6083', 'data.4698', 'data.5898', 'data.5804', 'data.5980']\n"
     ]
    }
   ],
   "source": [
    "#选取变量 \n",
    "Z1=list(enumerate(Z))\n",
    "Z1.sort(key=lambda x:x[1],reverse=True)\n",
    "Z1[:(MAX+1)]\n",
    "#选取的变量为：\n",
    "index=[]\n",
    "for i in range(14):\n",
    "    \n",
    "    index.append('data.'+str(Z1[:(MAX+1)][i][0]))\n",
    "print(index)"
   ]
  },
  {
   "cell_type": "code",
   "execution_count": 19,
   "metadata": {},
   "outputs": [],
   "source": [
    "t=Z1[(MAX)][1]\n",
    "def sgn(z):\n",
    "    if z>0:\n",
    "        return 1\n",
    "    elif z==0:\n",
    "        return 0\n",
    "    else:\n",
    "        return 1\n",
    "    \n",
    "def soft(z):\n",
    "    if abs(z)>t:\n",
    "        return sgn(z)*z\n",
    "    else:\n",
    "        return 0\n",
    "softdb=[]\n",
    "Z1=[]\n",
    "for i in Z:\n",
    "    Z1.append(soft(i))\n",
    "#decision based\n",
    "npz=np.array(Z1)\n",
    "for i in range(len(df33)):\n",
    "    L=np.dot(npz,df33.iloc[i,:-1])\n",
    "    if L>0:\n",
    "        softdb.append(1)\n",
    "    else:\n",
    "        softdb.append(-1)"
   ]
  },
  {
   "cell_type": "code",
   "execution_count": 20,
   "metadata": {},
   "outputs": [
    {
     "name": "stdout",
     "output_type": "stream",
     "text": [
      "分类结果 [1, 1, 1, 1, 1, 1, 1, 1, 1, -1, -1, -1, -1, 1, -1, -1, -1, -1]\n"
     ]
    },
    {
     "data": {
      "text/plain": [
       "0.05555555555555555"
      ]
     },
     "execution_count": 20,
     "metadata": {},
     "output_type": "execute_result"
    }
   ],
   "source": [
    "#分类结果\n",
    "print('分类结果',softdb)\n",
    "#错分率：\n",
    "sum(softdb!=df33.iloc[:,-1])/len(df33)"
   ]
  }
 ],
 "metadata": {
  "kernelspec": {
   "display_name": "Python 3",
   "language": "python",
   "name": "python3"
  },
  "language_info": {
   "codemirror_mode": {
    "name": "ipython",
    "version": 3
   },
   "file_extension": ".py",
   "mimetype": "text/x-python",
   "name": "python",
   "nbconvert_exporter": "python",
   "pygments_lexer": "ipython3",
   "version": "3.8.5"
  }
 },
 "nbformat": 4,
 "nbformat_minor": 4
}
