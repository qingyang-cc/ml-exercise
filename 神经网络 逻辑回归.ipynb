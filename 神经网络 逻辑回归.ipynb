{
 "cells": [
  {
   "cell_type": "markdown",
   "metadata": {},
   "source": [
    "# 作业二\n",
    "\n",
    "    对比单隐层sigmoid激活函数的神经网络与逻辑回归效果的区别，尝试拟合隐层2、3、4、5、10个神经元的区别"
   ]
  },
  {
   "cell_type": "code",
   "execution_count": 1,
   "metadata": {},
   "outputs": [
    {
     "name": "stdout",
     "output_type": "stream",
     "text": [
      "WARNING:tensorflow:From C:\\jupy\\lib\\site-packages\\tensorflow\\python\\compat\\v2_compat.py:96: disable_resource_variables (from tensorflow.python.ops.variable_scope) is deprecated and will be removed in a future version.\n",
      "Instructions for updating:\n",
      "non-resource variables are not supported in the long term\n"
     ]
    },
    {
     "name": "stderr",
     "output_type": "stream",
     "text": [
      "Using TensorFlow backend.\n"
     ]
    }
   ],
   "source": [
    "import pandas as pd\n",
    "import numpy as np\n",
    "import matplotlib.pyplot as plt\n",
    "import tensorflow.compat.v1 as tf\n",
    "tf.disable_v2_behavior()\n",
    "from keras.utils import to_categorical"
   ]
  },
  {
   "cell_type": "code",
   "execution_count": 2,
   "metadata": {},
   "outputs": [
    {
     "name": "stdout",
     "output_type": "stream",
     "text": [
      "        RI     Na    Mg    Al     Si     K    Ca   Ba   Fe  Type\n",
      "0  1.52101  13.64  4.49  1.10  71.78  0.06  8.75  0.0  0.0     1\n",
      "1  1.51761  13.89  3.60  1.36  72.73  0.48  7.83  0.0  0.0     1\n",
      "2  1.51618  13.53  3.55  1.54  72.99  0.39  7.78  0.0  0.0     1\n",
      "3  1.51766  13.21  3.69  1.29  72.61  0.57  8.22  0.0  0.0     1\n",
      "4  1.51742  13.27  3.62  1.24  73.08  0.55  8.07  0.0  0.0     1\n"
     ]
    }
   ],
   "source": [
    "data=pd.read_csv('./data/glass.csv')\n",
    "print(data.head())\n",
    "x_input=np.array(data.iloc[:,:-1])\n",
    "y=np.array(data['Type']).reshape(-1,1)\n",
    "y_input=to_categorical(y-1)"
   ]
  },
  {
   "cell_type": "markdown",
   "metadata": {},
   "source": [
    "##  2节点误差\n",
    "    训练网络1000次，输出每50步误差，2节点网络训练1000次后，误差为1.5169532"
   ]
  },
  {
   "cell_type": "code",
   "execution_count": 3,
   "metadata": {},
   "outputs": [
    {
     "name": "stdout",
     "output_type": "stream",
     "text": [
      "1.933957\n",
      "1.6349906\n",
      "1.5698303\n",
      "1.5494598\n",
      "1.5400926\n",
      "1.5346065\n",
      "1.5309275\n",
      "1.5282497\n",
      "1.5261918\n",
      "1.5245492\n",
      "1.5232006\n",
      "1.5220699\n",
      "1.5211065\n",
      "1.5202739\n",
      "1.519547\n",
      "1.5189058\n",
      "1.5183362\n",
      "1.5178269\n",
      "1.5173682\n",
      "1.5169532\n"
     ]
    }
   ],
   "source": [
    "#定义层\n",
    "def add_layer(inputs, in_size, out_size, activation_function=None):\n",
    "    Weights=tf.Variable(tf.random_normal((in_size, out_size)))\n",
    "    biases=tf.Variable(tf.zeros((1, out_size)) + 0.1)\n",
    "    Wx_plus_b=tf.matmul(inputs, Weights) + biases\n",
    "    if activation_function is None:\n",
    "        outputs=Wx_plus_b\n",
    "    else:\n",
    "        outputs=activation_function(Wx_plus_b)\n",
    "    return outputs\n",
    "#构建单隐层网络\n",
    "#传入数据\n",
    "xs=tf.placeholder(tf.float32,[None,x_input.shape[-1]])\n",
    "ys=tf.placeholder(tf.float32,[None,y_input.shape[-1]])\n",
    "#隐层1\n",
    "l1=add_layer(xs,x_input.shape[-1],2,activation_function=tf.nn.sigmoid)\n",
    "#输出层\n",
    "prediction=add_layer(l1,2,y_input.shape[-1],activation_function=tf.nn.softmax)\n",
    "#定义损失\n",
    "cross_entropy=tf.reduce_mean(-tf.reduce_sum(ys*tf.log(prediction),reduction_indices=[1]))\n",
    "#定义何如优化损失\n",
    "train=tf.train.GradientDescentOptimizer(learning_rate=0.1).minimize(cross_entropy)\n",
    "#初始化变量\n",
    "init=tf.global_variables_initializer()\n",
    "\n",
    "#开启会话\n",
    "with tf.Session() as sess:  \n",
    "    sess.run(init)\n",
    "    for i in range(1000):\n",
    "        sess.run(train, feed_dict={xs: x_input, ys: y_input})\n",
    "        if i%50==0:\n",
    "            print(sess.run(cross_entropy,feed_dict={xs:x_input,ys:y_input}))"
   ]
  },
  {
   "cell_type": "markdown",
   "metadata": {},
   "source": [
    "## 3节点\n",
    "    训练网络1000次，输出每50步误差，3节点训练误差1.5126112"
   ]
  },
  {
   "cell_type": "code",
   "execution_count": 4,
   "metadata": {},
   "outputs": [
    {
     "name": "stdout",
     "output_type": "stream",
     "text": [
      "1.8141459\n",
      "1.549244\n",
      "1.5294211\n",
      "1.5240554\n",
      "1.5214074\n",
      "1.5196786\n",
      "1.518405\n",
      "1.5174098\n",
      "1.5166043\n",
      "1.5159366\n",
      "1.5153724\n",
      "1.5148897\n",
      "1.5144717\n",
      "1.5141057\n",
      "1.513783\n",
      "1.5134963\n",
      "1.5132402\n",
      "1.5130094\n",
      "1.5128007\n",
      "1.5126112\n"
     ]
    }
   ],
   "source": [
    "def train_units(n):\n",
    "    l1=add_layer(xs,x_input.shape[-1],n,activation_function=tf.nn.sigmoid)\n",
    "    prediction=add_layer(l1,n,y_input.shape[-1],activation_function=tf.nn.softmax)\n",
    "    with tf.Session() as sess:\n",
    "        sess.run(init)\n",
    "        for i in range(1000):\n",
    "            sess.run(train, feed_dict={xs: x_input, ys: y_input})\n",
    "            if i%50==0:\n",
    "                print(sess.run(cross_entropy,feed_dict={xs:x_input,ys:y_input}))\n",
    "train_units(3)"
   ]
  },
  {
   "cell_type": "markdown",
   "metadata": {},
   "source": [
    "## 4节点误差\n",
    "    1000次训练误差为1.512973"
   ]
  },
  {
   "cell_type": "code",
   "execution_count": 5,
   "metadata": {},
   "outputs": [
    {
     "name": "stdout",
     "output_type": "stream",
     "text": [
      "2.1956966\n",
      "1.582459\n",
      "1.5407168\n",
      "1.5303158\n",
      "1.5256819\n",
      "1.5228505\n",
      "1.52086\n",
      "1.5193639\n",
      "1.5181937\n",
      "1.5172533\n",
      "1.5164803\n",
      "1.5158347\n",
      "1.5152863\n",
      "1.5148158\n",
      "1.5144073\n",
      "1.5140492\n",
      "1.513733\n",
      "1.5134518\n",
      "1.5131998\n",
      "1.512973\n"
     ]
    }
   ],
   "source": [
    "train_units(4)"
   ]
  },
  {
   "cell_type": "markdown",
   "metadata": {},
   "source": [
    "## 五节点误差\n",
    "    1000次训练误差1.5130552"
   ]
  },
  {
   "cell_type": "code",
   "execution_count": 6,
   "metadata": {},
   "outputs": [
    {
     "name": "stdout",
     "output_type": "stream",
     "text": [
      "2.1113255\n",
      "1.5870216\n",
      "1.5470468\n",
      "1.5337846\n",
      "1.5274926\n",
      "1.5239204\n",
      "1.5215795\n",
      "1.5198933\n",
      "1.5186055\n",
      "1.5175847\n",
      "1.5167537\n",
      "1.5160638\n",
      "1.5154816\n",
      "1.514984\n",
      "1.5145534\n",
      "1.5141778\n",
      "1.5138469\n",
      "1.5135533\n",
      "1.513291\n",
      "1.5130552\n"
     ]
    }
   ],
   "source": [
    "train_units(5)"
   ]
  },
  {
   "cell_type": "markdown",
   "metadata": {},
   "source": [
    "## 10节点误差\n",
    "    1000次网络训练误差为1.5128496"
   ]
  },
  {
   "cell_type": "code",
   "execution_count": 7,
   "metadata": {},
   "outputs": [
    {
     "name": "stdout",
     "output_type": "stream",
     "text": [
      "2.4642775\n",
      "1.5914952\n",
      "1.5437355\n",
      "1.5308102\n",
      "1.5250441\n",
      "1.5219922\n",
      "1.5200658\n",
      "1.51869\n",
      "1.5176338\n",
      "1.5167868\n",
      "1.5160885\n",
      "1.515502\n",
      "1.5150008\n",
      "1.5145682\n",
      "1.5141907\n",
      "1.5138583\n",
      "1.5135636\n",
      "1.5133\n",
      "1.5130634\n",
      "1.5128496\n"
     ]
    }
   ],
   "source": [
    "train_units(10)"
   ]
  },
  {
   "cell_type": "markdown",
   "metadata": {},
   "source": [
    "## 总结\n",
    "    因为神经网络参数一开始是随机设置的，每次运行结果都会不一样，但最终每个网络的误差均在1.51左右"
   ]
  },
  {
   "cell_type": "markdown",
   "metadata": {},
   "source": [
    "# 逻辑回归"
   ]
  },
  {
   "cell_type": "code",
   "execution_count": 8,
   "metadata": {},
   "outputs": [],
   "source": [
    "from sklearn import model_selection\n",
    "from sklearn.linear_model import LogisticRegression\n",
    "from sklearn.preprocessing import StandardScaler"
   ]
  },
  {
   "cell_type": "code",
   "execution_count": 9,
   "metadata": {},
   "outputs": [],
   "source": [
    "X=data.iloc[:,:-1]\n",
    "Y=data['Type'].values-1\n",
    "Y=Y.reshape(-1,1)\n",
    "X_train, X_test, Y_train, Y_test = model_selection.train_test_split(X, Y, test_size=0.3, random_state=0)\n",
    "sc=StandardScaler()\n",
    "sc.fit(X_train)\n",
    "X_train_std=sc.transform(X_train)\n",
    "X_test_std=sc.transform(X_test)"
   ]
  },
  {
   "cell_type": "code",
   "execution_count": 10,
   "metadata": {},
   "outputs": [
    {
     "name": "stdout",
     "output_type": "stream",
     "text": [
      "训练结果：\n",
      " [6 0 1 1 1 1 0 1 1 1 1 0 1 1 1 6 0 0 0 1 4 0 6 6 0 0 6 0 1 0 0 0 1 0 0 0 0\n",
      " 0 0 6 4 5 1 0 0 1 0 1 1 1 0 5 6 0 1 1 0 1 1 0 0 1 0 1 0]\n",
      "错分率：\n",
      " [0.43076923]\n"
     ]
    },
    {
     "name": "stderr",
     "output_type": "stream",
     "text": [
      "C:\\jupy\\lib\\site-packages\\sklearn\\utils\\validation.py:73: DataConversionWarning: A column-vector y was passed when a 1d array was expected. Please change the shape of y to (n_samples, ), for example using ravel().\n",
      "  return f(**kwargs)\n"
     ]
    }
   ],
   "source": [
    "lr=LogisticRegression()\n",
    "lr.fit(X_train_std,Y_train)\n",
    "pred=lr.predict(X_test_std)\n",
    "print('训练结果：\\n',pred)\n",
    "\n",
    "print('错分率：\\n',sum(pred.reshape(-1,1)!=Y_test)/len(Y_test))\n"
   ]
  },
  {
   "cell_type": "code",
   "execution_count": 60,
   "metadata": {},
   "outputs": [
    {
     "name": "stdout",
     "output_type": "stream",
     "text": [
      "交叉熵损失：\n",
      " 1.5721781934638335\n"
     ]
    }
   ],
   "source": [
    "#交叉熵损失\n",
    "aa=pred.reshape(-1,1)!=Y_test\n",
    "ab=np.where(aa,1,0)\n",
    "cc=[i for i,x in enumerate(ab) if x==0]\n",
    "loss=0\n",
    "correct_s=to_categorical(pred[cc]-1)\n",
    "correct_p=lr.predict_log_proba(X_test_std)[cc]\n",
    "for i in range(len(cc)):\n",
    "    loss+=np.dot(correct_s[i],correct_p[i])\n",
    "print('交叉熵损失：\\n',-loss/len(Y_test))"
   ]
  },
  {
   "cell_type": "markdown",
   "metadata": {},
   "source": [
    "### 多分类逻辑回归交叉熵损失为1.57217，比神经网络的1.51大"
   ]
  }
 ],
 "metadata": {
  "kernelspec": {
   "display_name": "Python 3",
   "language": "python",
   "name": "python3"
  },
  "language_info": {
   "codemirror_mode": {
    "name": "ipython",
    "version": 3
   },
   "file_extension": ".py",
   "mimetype": "text/x-python",
   "name": "python",
   "nbconvert_exporter": "python",
   "pygments_lexer": "ipython3",
   "version": "3.8.5"
  }
 },
 "nbformat": 4,
 "nbformat_minor": 4
}
