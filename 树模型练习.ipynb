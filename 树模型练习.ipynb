{
 "cells": [
  {
   "cell_type": "code",
   "execution_count": 167,
   "metadata": {},
   "outputs": [],
   "source": [
    "from sklearn import datasets\n",
    "from sklearn.model_selection import train_test_split,cross_val_score\n",
    "from sklearn.metrics import confusion_matrix\n",
    "from sklearn.tree import DecisionTreeClassifier,DecisionTreeRegressor\n",
    "from sklearn.ensemble import BaggingClassifier,BaggingRegressor\n",
    "from sklearn.ensemble import RandomForestClassifier,RandomForestRegressor\n",
    "from sklearn.ensemble import AdaBoostClassifier,AdaBoostRegressor\n",
    "import numpy as np\n",
    "import pandas as pd\n",
    "from collections import OrderedDict\n",
    "import matplotlib.pyplot as plt\n",
    "import seaborn as sns"
   ]
  },
  {
   "cell_type": "markdown",
   "metadata": {},
   "source": [
    "###  1.confusion_matrix实例"
   ]
  },
  {
   "cell_type": "code",
   "execution_count": 119,
   "metadata": {},
   "outputs": [
    {
     "data": {
      "text/plain": [
       "array([[2, 0, 0],\n",
       "       [0, 0, 1],\n",
       "       [1, 0, 2]], dtype=int64)"
      ]
     },
     "execution_count": 119,
     "metadata": {},
     "output_type": "execute_result"
    }
   ],
   "source": [
    "y_true = [2, 0, 2, 2, 0, 1]\n",
    "y_pred = [0, 0, 2, 2, 0, 2]\n",
    "confusion_matrix(y_true, y_pred)\n",
    "#真值为0，预测为0的有2个\n",
    "#真值为0，预测为1的有0个\n",
    "#真值为0，预测为2的有0个    "
   ]
  },
  {
   "cell_type": "markdown",
   "metadata": {},
   "source": [
    "### 2.argsort\n",
    "##### argsort是numpy中的一个函数，用来返回一个数组排好序后各元素对应的原来的位置序号。"
   ]
  },
  {
   "cell_type": "code",
   "execution_count": 120,
   "metadata": {},
   "outputs": [
    {
     "data": {
      "text/plain": [
       "array([3, 1, 5, 0, 7, 2, 4, 6], dtype=int64)"
      ]
     },
     "execution_count": 120,
     "metadata": {},
     "output_type": "execute_result"
    }
   ],
   "source": [
    "c=np.array([3,2,5,1,7,2,9,4])\n",
    "d=np.argsort(c)\n",
    "d\n",
    "#解释：按照从小到大排序后，最小值为1，对应的原来的位置序号为3（从0开始），接下来是2，对应的原来的位置序号为1和5，以此类推。"
   ]
  },
  {
   "cell_type": "markdown",
   "metadata": {},
   "source": [
    "# 练习1 分类器"
   ]
  },
  {
   "cell_type": "code",
   "execution_count": 121,
   "metadata": {},
   "outputs": [],
   "source": [
    "#读取数据\n",
    "biopsy = datasets.load_breast_cancer()  #数据集是一个字典\n",
    "x=biopsy['data']\n",
    "y=biopsy['target']\n",
    "X_train,X_test,Y_train,Y_test=train_test_split(x,y,test_size=0.3,random_state=14)"
   ]
  },
  {
   "cell_type": "markdown",
   "metadata": {},
   "source": [
    "### 1）决策树"
   ]
  },
  {
   "cell_type": "code",
   "execution_count": 122,
   "metadata": {},
   "outputs": [
    {
     "name": "stdout",
     "output_type": "stream",
     "text": [
      "The test accuracy is 90.1%\n"
     ]
    },
    {
     "data": {
      "text/html": [
       "<div>\n",
       "<style scoped>\n",
       "    .dataframe tbody tr th:only-of-type {\n",
       "        vertical-align: middle;\n",
       "    }\n",
       "\n",
       "    .dataframe tbody tr th {\n",
       "        vertical-align: top;\n",
       "    }\n",
       "\n",
       "    .dataframe thead th {\n",
       "        text-align: right;\n",
       "    }\n",
       "</style>\n",
       "<table border=\"1\" class=\"dataframe\">\n",
       "  <thead>\n",
       "    <tr style=\"text-align: right;\">\n",
       "      <th></th>\n",
       "      <th>pred_0</th>\n",
       "      <th>pred_1</th>\n",
       "    </tr>\n",
       "  </thead>\n",
       "  <tbody>\n",
       "    <tr>\n",
       "      <th>True_0</th>\n",
       "      <td>51</td>\n",
       "      <td>12</td>\n",
       "    </tr>\n",
       "    <tr>\n",
       "      <th>True_1</th>\n",
       "      <td>5</td>\n",
       "      <td>103</td>\n",
       "    </tr>\n",
       "  </tbody>\n",
       "</table>\n",
       "</div>"
      ],
      "text/plain": [
       "        pred_0  pred_1\n",
       "True_0      51      12\n",
       "True_1       5     103"
      ]
     },
     "execution_count": 122,
     "metadata": {},
     "output_type": "execute_result"
    }
   ],
   "source": [
    "#决策树\n",
    "clf = DecisionTreeClassifier(random_state=14)\n",
    "clf.fit(X_train,Y_train)                                               #拟合决策树\n",
    "Y_test_pred_onetree = clf.predict(X_test)                              #用测试数据进行预测\n",
    "accuracy_onetree=np.mean(Y_test_pred_onetree==Y_test)*100              #测试集结果对比\n",
    "print('The test accuracy is {:.1f}%'.format(accuracy_onetree))\n",
    "\n",
    "def show_table(y_true,y_pred):\n",
    "    #混乱矩阵\n",
    "    matrix=confusion_matrix(y_true,y_pred)\n",
    "    #构建数据框\n",
    "    level = np.unique(y_true).tolist()\n",
    "    Index=['True_'+str(content) for content in level]\n",
    "    colums=['pred_'+str(content) for content in level]\n",
    "    return(pd.DataFrame(matrix,index=Index,columns=colums))\n",
    "show_table(Y_test,Y_test_pred_onetree)\n"
   ]
  },
  {
   "cell_type": "markdown",
   "metadata": {},
   "source": [
    "### 2）Bagging"
   ]
  },
  {
   "cell_type": "markdown",
   "metadata": {},
   "source": [
    "#### Bagging通过bootstrap多次重复抽样得到多颗决策树，然后根据少数服从多数原则进行投票，通常情况下，结果会优于单颗决策数，但也有例外，如本例"
   ]
  },
  {
   "cell_type": "code",
   "execution_count": 123,
   "metadata": {},
   "outputs": [
    {
     "name": "stdout",
     "output_type": "stream",
     "text": [
      "the test accuracy is 94.7%\n"
     ]
    },
    {
     "data": {
      "text/html": [
       "<div>\n",
       "<style scoped>\n",
       "    .dataframe tbody tr th:only-of-type {\n",
       "        vertical-align: middle;\n",
       "    }\n",
       "\n",
       "    .dataframe tbody tr th {\n",
       "        vertical-align: top;\n",
       "    }\n",
       "\n",
       "    .dataframe thead th {\n",
       "        text-align: right;\n",
       "    }\n",
       "</style>\n",
       "<table border=\"1\" class=\"dataframe\">\n",
       "  <thead>\n",
       "    <tr style=\"text-align: right;\">\n",
       "      <th></th>\n",
       "      <th>pred_0</th>\n",
       "      <th>pred_1</th>\n",
       "    </tr>\n",
       "  </thead>\n",
       "  <tbody>\n",
       "    <tr>\n",
       "      <th>True_0</th>\n",
       "      <td>57</td>\n",
       "      <td>6</td>\n",
       "    </tr>\n",
       "    <tr>\n",
       "      <th>True_1</th>\n",
       "      <td>3</td>\n",
       "      <td>105</td>\n",
       "    </tr>\n",
       "  </tbody>\n",
       "</table>\n",
       "</div>"
      ],
      "text/plain": [
       "        pred_0  pred_1\n",
       "True_0      57       6\n",
       "True_1       3     105"
      ]
     },
     "execution_count": 123,
     "metadata": {},
     "output_type": "execute_result"
    }
   ],
   "source": [
    "bagging=BaggingClassifier(DecisionTreeClassifier(random_state=14),random_state=14,n_estimators=10) #5颗树，默认10个\n",
    "bagging.fit(X_train,Y_train)\n",
    "Y_test_pred_bagging = bagging.predict(X_test)\n",
    "accuracy_bagging=np.mean(Y_test_pred_bagging == Y_test)*100\n",
    "print('the test accuracy is {:.1f}%'.format(accuracy_bagging))\n",
    "show_table(Y_test,Y_test_pred_bagging)"
   ]
  },
  {
   "cell_type": "markdown",
   "metadata": {},
   "source": [
    "### 3）随机森林"
   ]
  },
  {
   "cell_type": "markdown",
   "metadata": {},
   "source": [
    "#### 利用RandomForestClassifier函数设置参数n_estimators=20以此拥有20颗树，并使用feature_importances_找到分类器的重要特征，也是通过bootstrap重抽样生成多颗决策树。区别在于Bagging在生成决策树时利用所有的变量进行训练，而随机森林是随机从自变量中选取一部分进行训练，这样可以提高决策树之间的独立性，提高分类器的泛化能力"
   ]
  },
  {
   "cell_type": "code",
   "execution_count": 124,
   "metadata": {},
   "outputs": [
    {
     "name": "stdout",
     "output_type": "stream",
     "text": [
      "the test accuracy is 94.2%\n"
     ]
    },
    {
     "data": {
      "text/html": [
       "<div>\n",
       "<style scoped>\n",
       "    .dataframe tbody tr th:only-of-type {\n",
       "        vertical-align: middle;\n",
       "    }\n",
       "\n",
       "    .dataframe tbody tr th {\n",
       "        vertical-align: top;\n",
       "    }\n",
       "\n",
       "    .dataframe thead th {\n",
       "        text-align: right;\n",
       "    }\n",
       "</style>\n",
       "<table border=\"1\" class=\"dataframe\">\n",
       "  <thead>\n",
       "    <tr style=\"text-align: right;\">\n",
       "      <th></th>\n",
       "      <th>pred_0</th>\n",
       "      <th>pred_1</th>\n",
       "    </tr>\n",
       "  </thead>\n",
       "  <tbody>\n",
       "    <tr>\n",
       "      <th>True_0</th>\n",
       "      <td>55</td>\n",
       "      <td>8</td>\n",
       "    </tr>\n",
       "    <tr>\n",
       "      <th>True_1</th>\n",
       "      <td>2</td>\n",
       "      <td>106</td>\n",
       "    </tr>\n",
       "  </tbody>\n",
       "</table>\n",
       "</div>"
      ],
      "text/plain": [
       "        pred_0  pred_1\n",
       "True_0      55       8\n",
       "True_1       2     106"
      ]
     },
     "execution_count": 124,
     "metadata": {},
     "output_type": "execute_result"
    }
   ],
   "source": [
    "rf=RandomForestClassifier(random_state=14,n_estimators=20)\n",
    "rf.fit(X_train,Y_train)\n",
    "Y_test_pred_rf=rf.predict(X_test)\n",
    "accuracy_rf = np.mean(Y_test_pred_rf == Y_test)*100\n",
    "print('the test accuracy is {:.1f}%'.format(accuracy_rf))\n",
    "show_table(Y_test,Y_test_pred_rf)"
   ]
  },
  {
   "cell_type": "code",
   "execution_count": 125,
   "metadata": {},
   "outputs": [
    {
     "data": {
      "image/png": "[encoded data removed]",
      "text/plain": [
       "<Figure size 360x504 with 1 Axes>"
      ]
     },
     "metadata": {
      "needs_background": "light"
     },
     "output_type": "display_data"
    }
   ],
   "source": [
    "#绘制变量重要程度条形图\n",
    "\n",
    "features_list = biopsy.feature_names             #提取字典索引名称\n",
    "feature_importance = rf.feature_importances_     #提取随机森林变量重要性\n",
    "sorted_idx = np.argsort(feature_importance)      #对变量重要性进行排序\n",
    "plt.figure(figsize=(5,7))\n",
    "plt.barh(range(len(sorted_idx)), feature_importance[sorted_idx], align='center')\n",
    "plt.yticks(range(len(sorted_idx)), features_list[sorted_idx])\n",
    "plt.xlabel('Importance')\n",
    "plt.title('Feature importances')\n",
    "plt.draw()\n",
    "plt.show()"
   ]
  },
  {
   "cell_type": "markdown",
   "metadata": {},
   "source": [
    "###  4）Adaboost"
   ]
  },
  {
   "cell_type": "markdown",
   "metadata": {},
   "source": [
    "####  adaboost是对bagging进一步改进，它通过不等概率抽样，增大上一次错判样本被抽中的概率，使得分类器对错判的样本也能有一个较好的预测。往往adaboost是对决策树最好的提升。"
   ]
  },
  {
   "cell_type": "code",
   "execution_count": 126,
   "metadata": {},
   "outputs": [
    {
     "name": "stdout",
     "output_type": "stream",
     "text": [
      "the test accuracy is 94.7%\n"
     ]
    },
    {
     "data": {
      "text/html": [
       "<div>\n",
       "<style scoped>\n",
       "    .dataframe tbody tr th:only-of-type {\n",
       "        vertical-align: middle;\n",
       "    }\n",
       "\n",
       "    .dataframe tbody tr th {\n",
       "        vertical-align: top;\n",
       "    }\n",
       "\n",
       "    .dataframe thead th {\n",
       "        text-align: right;\n",
       "    }\n",
       "</style>\n",
       "<table border=\"1\" class=\"dataframe\">\n",
       "  <thead>\n",
       "    <tr style=\"text-align: right;\">\n",
       "      <th></th>\n",
       "      <th>pred_0</th>\n",
       "      <th>pred_1</th>\n",
       "    </tr>\n",
       "  </thead>\n",
       "  <tbody>\n",
       "    <tr>\n",
       "      <th>True_0</th>\n",
       "      <td>57</td>\n",
       "      <td>6</td>\n",
       "    </tr>\n",
       "    <tr>\n",
       "      <th>True_1</th>\n",
       "      <td>3</td>\n",
       "      <td>105</td>\n",
       "    </tr>\n",
       "  </tbody>\n",
       "</table>\n",
       "</div>"
      ],
      "text/plain": [
       "        pred_0  pred_1\n",
       "True_0      57       6\n",
       "True_1       3     105"
      ]
     },
     "execution_count": 126,
     "metadata": {},
     "output_type": "execute_result"
    }
   ],
   "source": [
    "ada = AdaBoostClassifier(random_state=14,n_estimators=20)\n",
    "ada.fit(X_train,Y_train)\n",
    "Y_test_pred_ada = ada.predict(X_test)\n",
    "accuracy_ada = np.mean(Y_test_pred_ada == Y_test)*100\n",
    "print('the test accuracy is {:.1f}%'.format(accuracy_ada))\n",
    "show_table(Y_test,Y_test_pred_ada)"
   ]
  },
  {
   "cell_type": "code",
   "execution_count": 127,
   "metadata": {},
   "outputs": [
    {
     "data": {
      "image/png": "[encoded data removed]",
      "text/plain": [
       "<Figure size 432x288 with 1 Axes>"
      ]
     },
     "metadata": {
      "needs_background": "light"
     },
     "output_type": "display_data"
    }
   ],
   "source": [
    "#绘制变量重要程度条形图\n",
    "\n",
    "features_list = biopsy.feature_names\n",
    "importance_ada = ada.feature_importances_\n",
    "sorted_idx_ada = np.argsort(importance_ada)\n",
    "\n",
    "plt.figure()\n",
    "plt.barh(range(len(sorted_idx_ada)), importance_ada[sorted_idx_ada])\n",
    "plt.yticks(range(len(sorted_idx_ada)), features_list[sorted_idx_ada])\n",
    "plt.xlabel('Importance')\n",
    "plt.title('Feature importances for ada')\n",
    "plt.show()"
   ]
  },
  {
   "cell_type": "markdown",
   "metadata": {},
   "source": [
    "###  5）比较bagging、随机森林、adaboost算法"
   ]
  },
  {
   "cell_type": "markdown",
   "metadata": {},
   "source": [
    "####  对每种算法进行50次实验，每次实验采用5折交叉验证计算平均准确率\n",
    "##### K折交叉验证：所谓K折交叉验证，就是将数据集等比例划分成K份，以其中的一份作为测试数据，其他的K-1份数据作为训练数据。然后，这样算是一次实验，而K折交叉验证只有实验K次才算完成完整的一次，也就是说交叉验证实际是把实验重复做了K次，每次实验都是从K个部分选取一份不同的数据部分作为测试数据（保证K个部分的数据都分别做过测试数据），剩下的K-1个当作训练数据，最后把得到的K个实验结果进行平分。"
   ]
  },
  {
   "cell_type": "code",
   "execution_count": 130,
   "metadata": {},
   "outputs": [
    {
     "data": {
      "image/png": "[encoded data removed]",
      "text/plain": [
       "<Figure size 432x288 with 1 Axes>"
      ]
     },
     "metadata": {
      "needs_background": "light"
     },
     "output_type": "display_data"
    }
   ],
   "source": [
    "n=50\n",
    "accuracy_onetree = []\n",
    "accuracy_bagging = []\n",
    "accuracy_rf = []\n",
    "accuracy_ada = []\n",
    "for i in range(n):\n",
    "    clf = DecisionTreeClassifier()\n",
    "    bagging = BaggingClassifier()\n",
    "    rf =RandomForestClassifier(n_estimators=20)\n",
    "    ada = AdaBoostClassifier(n_estimators=20)\n",
    "    accuracy_onetree.append(np.mean(cross_val_score(clf,x,y,scoring='accuracy',cv=5)))\n",
    "    accuracy_bagging.append(np.mean(cross_val_score(bagging,x,y,scoring='accuracy',cv=5)))\n",
    "    accuracy_rf.append(np.mean(cross_val_score(rf,x,y,scoring='accuracy',cv=5)))\n",
    "    accuracy_ada.append(np.mean(cross_val_score(ada,x,y,scoring='accuracy',cv=5)))\n",
    "\n",
    "fig=plt.figure()\n",
    "ax=fig.add_subplot(1,1,1)\n",
    "box = plt.boxplot((accuracy_onetree,accuracy_bagging,accuracy_rf,accuracy_ada),labels=['DecisionTree','Bagging','RandomForest','AdaBoost'])\n",
    "plt.title('Accuracy of Different Methods')\n",
    "plt.show()\n",
    "    "
   ]
  },
  {
   "cell_type": "markdown",
   "metadata": {},
   "source": [
    "###### fig,ax = plt.subplots()就是\n",
    "###### fig = plt.figure()\n",
    "###### ax = fig.add_subplot(1,2,1) \n",
    "###### fig, ax = plt.subplots(1,2,1)，中有三个参数，分别表示在一个大的画图空间fig中，参数1和2分别代表子图的行数和列数，也就是我们现在生成了1x2的两个图像。\n",
    "###### 返回的结果就是，fig画图空间和子图ax的array坐标系列表。\n",
    "###### fig, ax = plt.subplots(1,2,1)中最后一个参数1代表第1个子图。\n",
    "###### fig, ax = plt.subplots(1,2,2)中最后一个参数2代表第2个子图"
   ]
  },
  {
   "cell_type": "markdown",
   "metadata": {},
   "source": [
    "#  练习2 回归树——cpu数据"
   ]
  },
  {
   "cell_type": "code",
   "execution_count": 154,
   "metadata": {},
   "outputs": [
    {
     "name": "stdout",
     "output_type": "stream",
     "text": [
      "                     name  syct  mmin  mmax  cach  chmin  chmax  perf  estperf\n",
      "205           SPERRY 80/8   124  1000  8000     0      1      8    42       37\n",
      "206  SPERRY 90/80 MODEL 3    98  1000  8000    32      2      8    46       50\n",
      "207            STRATUS 32   125  2000  8000     0      2     14    52       41\n",
      "208             WANG VS10   480   512  8000    32      0      0    67       47\n",
      "209            WANG VS 90   480  1000  4000     0      0      0    45       25\n"
     ]
    }
   ],
   "source": [
    "#读取数据\n",
    "data = pd.read_csv('cpus.csv',index_col=0)\n",
    "print(data.tail())\n",
    "Y=data['perf']\n",
    "Xnames=data.columns\n",
    "X=data[Xnames[1:7]]\n",
    "train_X,test_X,train_y,test_y = train_test_split(X,np.log(Y),test_size=0.3,random_state=5)"
   ]
  },
  {
   "cell_type": "code",
   "execution_count": 146,
   "metadata": {},
   "outputs": [
    {
     "data": {
      "text/plain": [
       "syct      -0.307082\n",
       "mmin       0.794923\n",
       "mmax       0.862994\n",
       "cach       0.662613\n",
       "chmin      0.608903\n",
       "chmax      0.605219\n",
       "perf       1.000000\n",
       "estperf    0.966469\n",
       "Name: perf, dtype: float64"
      ]
     },
     "execution_count": 146,
     "metadata": {},
     "output_type": "execute_result"
    }
   ],
   "source": [
    "#描述统计 计算各变量之间的相关性\n",
    "data.corr()['perf']"
   ]
  },
  {
   "cell_type": "code",
   "execution_count": 147,
   "metadata": {},
   "outputs": [
    {
     "data": {
      "image/png": "[encoded data removed]",
      "text/plain": [
       "<Figure size 432x288 with 1 Axes>"
      ]
     },
     "metadata": {
      "needs_background": "light"
     },
     "output_type": "display_data"
    }
   ],
   "source": [
    "#观察y的分布\n",
    "plt.hist(Y,color='pink',edgecolor='k')\n",
    "plt.xlabel('range of perf')\n",
    "plt.ylabel('frequency')\n",
    "plt.title('Histgram of perf')\n",
    "plt.show()"
   ]
  },
  {
   "cell_type": "code",
   "execution_count": 153,
   "metadata": {},
   "outputs": [
    {
     "data": {
      "image/png": "[encoded data removed]",
      "text/plain": [
       "<Figure size 432x288 with 1 Axes>"
      ]
     },
     "metadata": {
      "needs_background": "light"
     },
     "output_type": "display_data"
    }
   ],
   "source": [
    "#明显右偏分布，对y进行对数变化\n",
    "sns.distplot(np.log(Y),color='blue')   #distplot = hist +kdeplot\n",
    "plt.xlabel('range of log(perf)')\n",
    "plt.ylabel('frequency')\n",
    "plt.title('Histgram of log(perf)')\n",
    "plt.show()"
   ]
  },
  {
   "cell_type": "markdown",
   "metadata": {},
   "source": [
    "###  1）回归树"
   ]
  },
  {
   "cell_type": "markdown",
   "metadata": {},
   "source": [
    "#####  利用10折交叉验证比较不同深度树的拟合效果，评价指标用MSE，不同深度意味着不同拟合程度"
   ]
  },
  {
   "cell_type": "code",
   "execution_count": 161,
   "metadata": {},
   "outputs": [
    {
     "data": {
      "image/png": "[encoded data removed]",
      "text/plain": [
       "<Figure size 432x288 with 1 Axes>"
      ]
     },
     "metadata": {
      "needs_background": "light"
     },
     "output_type": "display_data"
    }
   ],
   "source": [
    "mse=[]\n",
    "for depth in np.arange(2,12):\n",
    "    reg=DecisionTreeRegressor(max_depth=depth)\n",
    "    mse.append(np.mean(abs(cross_val_score(reg,X,np.log(Y),scoring='neg_mean_squared_error',cv=10))))\n",
    "plt.plot(np.arange(2,12),mse,'o-')\n",
    "plt.title('MES of different max_depth')\n",
    "plt.xlabel('max_Depth')\n",
    "plt.ylabel('MSE')\n",
    "plt.show()"
   ]
  },
  {
   "cell_type": "code",
   "execution_count": 166,
   "metadata": {},
   "outputs": [
    {
     "name": "stdout",
     "output_type": "stream",
     "text": [
      "MSE为：0.233502\n",
      "R²为：0.810344\n"
     ]
    },
    {
     "data": {
      "image/png": "[encoded data removed]",
      "text/plain": [
       "<Figure size 432x288 with 1 Axes>"
      ]
     },
     "metadata": {
      "needs_background": "light"
     },
     "output_type": "display_data"
    }
   ],
   "source": [
    "#上图显示，深度为7时，达到最小mse,绘制变量重要程度条形图\n",
    "reg = DecisionTreeRegressor(max_depth=7).fit(train_X,train_y)\n",
    "reg_pred = reg.predict(test_X)\n",
    "MSE = np.mean((test_y-reg_pred)**2)\n",
    "SCORE =reg.score(test_X,test_y)    #R²\n",
    "print('MSE为：{:f}'.format(MSE))\n",
    "print('R²为：{:f}'.format(SCORE))\n",
    "importance_reg = reg.feature_importances_\n",
    "feather_names = X.columns\n",
    "sorted_reg = np.argsort(importance_reg)\n",
    "\n",
    "plt.figure()\n",
    "plt.barh(range(len(feather_names)),importance_reg[sorted_reg])\n",
    "plt.yticks(range(len(sorted_reg)), feather_names[sorted_reg])\n",
    "plt.title('importance of variables')\n",
    "plt.show()\n"
   ]
  },
  {
   "cell_type": "markdown",
   "metadata": {},
   "source": [
    "###  2)组合算法：bagging、随机森林、adaboost"
   ]
  },
  {
   "cell_type": "markdown",
   "metadata": {},
   "source": [
    "####  bagging"
   ]
  },
  {
   "cell_type": "code",
   "execution_count": 174,
   "metadata": {},
   "outputs": [
    {
     "name": "stdout",
     "output_type": "stream",
     "text": [
      "MSE为：0.230933\n",
      "R²为：0.850804\n"
     ]
    }
   ],
   "source": [
    "bagging=BaggingRegressor(random_state=5)\n",
    "bagging.fit(train_X,train_y)\n",
    "bagging_pred=bagging.predict(test_X)\n",
    "\n",
    "mse_bagging=(np.mean(abs(cross_val_score(bagging,X,np.log(Y),scoring='neg_mean_squared_error',cv=10))))\n",
    "score_bagging=bagging.score(test_X,test_y)\n",
    "print('MSE为：{:f}'.format(mse_bagging))\n",
    "print('R²为：{:f}'.format(score_bagging))"
   ]
  }
 ],
 "metadata": {
  "kernelspec": {
   "display_name": "Python 3",
   "language": "python",
   "name": "python3"
  },
  "language_info": {
   "codemirror_mode": {
    "name": "ipython",
    "version": 3
   },
   "file_extension": ".py",
   "mimetype": "text/x-python",
   "name": "python",
   "nbconvert_exporter": "python",
   "pygments_lexer": "ipython3",
   "version": "3.8.5"
  }
 },
 "nbformat": 4,
 "nbformat_minor": 4
}
